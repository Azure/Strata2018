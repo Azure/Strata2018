{
 "cells": [
  {
   "cell_type": "markdown",
   "metadata": {},
   "source": [
    "# Creating word vectors using word2vec implementation in Spark MLlib"
   ]
  },
  {
   "cell_type": "markdown",
   "metadata": {},
   "source": [
    "### Here we show how to use Spark MLlib Word2Vec for generating word-features \n",
    "#### The data being used is the attack comments text data\n",
    "\n",
    "Depeding on the size of your DSVM, this notebook may take about 1-2 mins to finish\n",
    "\n",
    "MLlib Word2Vec: https://spark.apache.org/docs/2.2.0/mllib-feature-extraction.html#word2vec"
   ]
  },
  {
   "cell_type": "markdown",
   "metadata": {},
   "source": [
    "## Set directory path for input data \n",
    "#### Input data is downloaded locally to a DSVM"
   ]
  },
  {
   "cell_type": "code",
   "execution_count": 88,
   "metadata": {
    "collapsed": true
   },
   "outputs": [],
   "source": [
    "# 1. Location of training data on \n",
    "text_file = \"../Data/text_data/attack_data.csv\""
   ]
  },
  {
   "cell_type": "markdown",
   "metadata": {},
   "source": [
    "## Set spark context and import necessary libraries"
   ]
  },
  {
   "cell_type": "code",
   "execution_count": 89,
   "metadata": {
    "collapsed": true
   },
   "outputs": [],
   "source": [
    "from pyspark import SparkConf\n",
    "from pyspark import SparkContext\n",
    "from pyspark.sql import SQLContext, SparkSession, DataFrame, SparkSession\n",
    "from pyspark.sql.functions import UserDefinedFunction, regexp_replace, trim, col, lower, lit, udf, monotonically_increasing_id\n",
    "from pyspark.sql.types import *\n",
    "from pyspark.ml.feature import Word2Vec, Word2VecModel, Tokenizer, RegexTokenizer, StopWordsRemover\n",
    "from pyspark.ml.linalg import Vectors\n",
    "\n",
    "import matplotlib.pyplot as plt\n",
    "import numpy as np\n",
    "import datetime\n",
    "import pandas as pd\n",
    "\n",
    "\n",
    "sqlContext = SQLContext(sc)"
   ]
  },
  {
   "cell_type": "markdown",
   "metadata": {},
   "source": [
    "## Data ingestion: Read in attack text csv data"
   ]
  },
  {
   "cell_type": "code",
   "execution_count": 93,
   "metadata": {},
   "outputs": [
    {
     "data": {
      "text/plain": [
       "[Row(rev_id=37675, comment=\"`-NEWLINE_TOKENThis is not ``creative``.  Those are the dictionary definitions of the terms ``insurance`` and ``ensurance`` as properly applied to ``destruction``.  If you don't understand that, fine, legitimate criticism, I'll write up ``three man cell`` and ``bounty hunter`` and then it will be easy to understand why ``ensured`` and ``insured`` are different - and why both differ from ``assured``.NEWLINE_TOKENNEWLINE_TOKENThe sentence you quote is absolutely neutral.  You just aren't familiar with the underlying theory of strike-back (e.g. submarines as employed in nuclear warfare) guiding the insurance, nor likely the three man cell structure that kept the IRA from being broken by the British.  If that's my fault, fine, I can fix that to explain.  But ther'es nothing ``personal`` or ``creative`` about it.NEWLINE_TOKENNEWLINE_TOKENI'm tired of arguing with you.  Re: the other article, ``multi-party`` turns up plenty, and there is more use of ``mutually`` than ``mutual``.  If I were to apply your standard I'd be moving ``Mutual Assured Destruction`` to ``talk`` for not appealing to a Reagan voter's biases about its effectiveness, and for dropping the ``ly``.NEWLINE_TOKENNEWLINE_TOKENThere is a double standard in your edits.  If it comes from some US history book, like ``peace movement`` or 'M.A.D.' as defined in 1950, you like it, even if the definition is totally useless in 2002 and only of historical interest.  NEWLINE_TOKENNEWLINE_TOKENIf it makes any even-obvious connection or implication from the language chosen in multiple profession-specific terms, you consider it somehow non-neutral...  Gandhi thinks ``eye for an eye`` describes riots, death penalty, and war all at once, but you don't.  What do you know that Gandhi doesn't?NEWLINE_TOKENNEWLINE_TOKENGuess what:  reality is not neutral.  Current use of terms is slightly more controversial.  Neutrality requires negotiation, and some willingness to learn.NEWLINE_TOKENNEWLINE_TOKENThis is your problem not mine.  You may dislike the writing, fine, that can be fixed.  But disregarding fundamental axioms of philosphy with names that recur in multiple phrases, or failing to make critical distinctions like 'insurance' versus 'assurance' versus 'ensurance' (which are made in one quote by an Air Force general in an in-context quote), is just a disservice to the reader.NEWLINE_TOKENNEWLINE_TOKENIf someone comes here to research a topic like MAD, they want some context, beyond history.NEWLINE_TOKENNEWLINE_TOKENIf this is a history book, fine, it's a history book.  But that wasn't what it was claimed to be...NEWLINE_TOKEN`\", year='2002', logged_in='False', ns='article', sample='random', split='train', count='10', avg_attack=0.0, is_attack=False)]"
      ]
     },
     "execution_count": 93,
     "metadata": {},
     "output_type": "execute_result"
    }
   ],
   "source": [
    "## READ IN DATA AND CREATE SPARK DATAFRAME FROM A CSV\n",
    "text_df = spark.read.csv(path=text_file, header=True, inferSchema=True, sep=\",\")\n",
    "text_df.cache(); text_df.count();\n",
    "\n",
    "## REGISTER DATA-FRAME AS A TEMP-TABLE IN SQL-CONTEXT\n",
    "text_df.createOrReplaceTempView(\"text_table\")\n",
    "\n",
    "text_df.head(1)"
   ]
  },
  {
   "cell_type": "markdown",
   "metadata": {},
   "source": [
    "## Select and filter data set"
   ]
  },
  {
   "cell_type": "code",
   "execution_count": 45,
   "metadata": {},
   "outputs": [
    {
     "data": {
      "text/plain": [
       "31253"
      ]
     },
     "execution_count": 45,
     "metadata": {},
     "output_type": "execute_result"
    }
   ],
   "source": [
    "### SELCT ONLY REV_ID AND COMMENT FIELDS, AND FILTER FOR TRAINING DATA AND ARTILES ONLY\n",
    "sqlStatement = \"\"\" SELECT rev_id, comment \n",
    "            FROM text_table \n",
    "            where ns = 'article' and split = 'train' \"\"\"\n",
    "text_filtered_df = spark.sql(sqlStatement)\n",
    "\n",
    "## CACHE NEW DATAFRAME IN MEMORY AND CREATE TEMPORARY TABLE\n",
    "text_filtered_df.cache(); text_filtered_df.count();\n",
    "text_filtered_df.createOrReplaceTempView(\"text_filtered_table\")\n",
    "\n",
    "## COUNT NUMBER OF ROWS IN DATAFRAME \n",
    "text_filtered_df.count()"
   ]
  },
  {
   "cell_type": "markdown",
   "metadata": {},
   "source": [
    "## Lowercase and remove some words and remove punctuations"
   ]
  },
  {
   "cell_type": "code",
   "execution_count": 98,
   "metadata": {},
   "outputs": [
    {
     "data": {
      "text/plain": [
       "[Row(rev_id=37675, comment_final='this is not creative  those are the dictionary definitions of the terms insurance and ensurance as properly applied to destruction  if you dont understand that fine legitimate criticism ill write up three man cell and bounty hunter and then it will be easy to understand why ensured and insured are different - and why both differ from assuredthe sentence you quote is absolutely neutral  you just arent familiar with the underlying theory of strike-back eg submarines as employed in nuclear warfare guiding the insurance nor likely the three man cell structure that kept the ira from being broken by the british  if thats my fault fine i can fix that to explain  but theres nothing personal or creative about itim tired of arguing with you  re the other article multi-party turns up plenty and there is more use of mutually than mutual  if i were to apply your standard id be moving mutual assured destruction to talk for not appealing to a reagan voters biases about its effectiveness and for dropping the lythere is a double standard in your edits  if it comes from some us history book like peace movement or mad as defined in 1950 you like it even if the definition is totally useless in 2002 and only of historical interest  if it makes any even-obvious connection or implication from the language chosen in multiple profession-specific terms you consider it somehow non-neutral  gandhi thinks eye for an eye describes riots death penalty and war all at once but you dont  what do you know that gandhi doesntguess what  reality is not neutral  current use of terms is slightly more controversial  neutrality requires negotiation and some willingness to learnthis is your problem not mine  you may dislike the writing fine that can be fixed  but disregarding fundamental axioms of philosphy with names that recur in multiple phrases or failing to make critical distinctions like insurance versus assurance versus ensurance which are made in one quote by an air force general in an in-context quote is just a disservice to the readerif someone comes here to research a topic like mad they want some context beyond historyif this is a history book fine its a history book  but that wasnt what it was claimed to be')]"
      ]
     },
     "execution_count": 98,
     "metadata": {},
     "output_type": "execute_result"
    }
   ],
   "source": [
    "text_filtered_df2 = text_filtered_df.withColumn(\"comment1\", lower(col(\"comment\"))).\\\n",
    "    withColumn(\"comment2\", regexp_replace(\"comment1\", '-newline_token', \"\")).\\\n",
    "    withColumn(\"comment3\", regexp_replace(\"comment2\", 'newline_token', \"\")).\\\n",
    "    withColumn(\"comment_final\", regexp_replace(\"comment3\", '[^\\w-_ ]', \"\")).\\\n",
    "    select('rev_id', 'comment_final')\n",
    "    \n",
    "text_filtered_df2.head(1)"
   ]
  },
  {
   "cell_type": "markdown",
   "metadata": {},
   "source": [
    "## Tokenize and remove stopwords"
   ]
  },
  {
   "cell_type": "code",
   "execution_count": 101,
   "metadata": {},
   "outputs": [
    {
     "name": "stdout",
     "output_type": "stream",
     "text": [
      "+------+--------------------+--------------------+--------------------+\n",
      "|rev_id|       comment_final|               words|           filtWords|\n",
      "+------+--------------------+--------------------+--------------------+\n",
      "| 37675|this is not creat...|[this, is, not, c...|[creative, , dict...|\n",
      "| 44816| the term standar...|[, the, term, sta...|[, term, standard...|\n",
      "| 49851|true or false the...|[true, or, false,...|[true, false, sit...|\n",
      "| 93890|this page will ne...|[this, page, will...|[page, need, disa...|\n",
      "|103624|i removed the fol...|[i, removed, the,...|[removed, followi...|\n",
      "+------+--------------------+--------------------+--------------------+\n",
      "only showing top 5 rows\n",
      "\n"
     ]
    }
   ],
   "source": [
    "## DEFINE TOKENIZER AND STOPWORD REMOVER\n",
    "tokenizer = Tokenizer(inputCol=\"comment_final\", outputCol=\"words\")\n",
    "remover = StopWordsRemover(inputCol=\"words\", outputCol=\"filtWords\")\n",
    "\n",
    "## TRANSFORM DATASET\n",
    "text_filtered_df3 = tokenizer.transform(text_filtered_df2)\n",
    "text_filtered_df4 = remover.transform(text_filtered_df3)\n",
    "text_filtered_df4.cache(); text_filtered_df4.count();\n",
    "text_filtered_df4.show(5)"
   ]
  },
  {
   "cell_type": "markdown",
   "metadata": {},
   "source": [
    "## DEFINE AND RUN WORD2VEC ON COMMENTS"
   ]
  },
  {
   "cell_type": "code",
   "execution_count": 102,
   "metadata": {
    "collapsed": true
   },
   "outputs": [],
   "source": [
    "model = None\n",
    "window_size = 5\n",
    "vector_size = 50\n",
    "min_count = 5\n",
    "\n",
    "word2Vec = Word2Vec(windowSize = window_size, vectorSize = vector_size, minCount=min_count, numPartitions=2, inputCol=\"filtWords\", outputCol=\"result\")\n",
    "model = word2Vec.fit(text_filtered_df4)"
   ]
  },
  {
   "cell_type": "markdown",
   "metadata": {},
   "source": [
    "## Examine some words, and other words close to them from these feature neighborhood"
   ]
  },
  {
   "cell_type": "code",
   "execution_count": 103,
   "metadata": {},
   "outputs": [
    {
     "data": {
      "text/plain": [
       "[Row(word='assume'),\n",
       " Row(word='wikipediaassume'),\n",
       " Row(word='good'),\n",
       " Row(word='luck'),\n",
       " Row(word='positively')]"
      ]
     },
     "execution_count": 103,
     "metadata": {},
     "output_type": "execute_result"
    }
   ],
   "source": [
    "model.findSynonyms(\"bad\", 20).select(\"word\").head(5)"
   ]
  },
  {
   "cell_type": "markdown",
   "metadata": {},
   "source": [
    "## Examine how vector features look like"
   ]
  },
  {
   "cell_type": "code",
   "execution_count": 105,
   "metadata": {},
   "outputs": [
    {
     "data": {
      "text/plain": [
       "[Row(word='quotient', vector=DenseVector([-0.0403, -0.0233, -0.0682, -0.0333, -0.0461, 0.0497, -0.0433, -0.0738, 0.014, 0.0308, -0.0249, -0.0422, -0.0002, 0.0057, -0.009, 0.0117, -0.0029, 0.0486, 0.0122, -0.0006, -0.0098, 0.0192, 0.0119, -0.0721, 0.0346, -0.0509, 0.0527, 0.0309, 0.0387, -0.1122, -0.0355, 0.0262, 0.044, 0.05, -0.0241, 0.0363, -0.018, 0.0516, 0.022, 0.0522, -0.0461, -0.0216, -0.0054, -0.0932, 0.0132, 0.0156, 0.0199, 0.0676, -0.0154, -0.0674]))]"
      ]
     },
     "execution_count": 105,
     "metadata": {},
     "output_type": "execute_result"
    }
   ],
   "source": [
    "word2vec_features = model.getVectors().select(\"*\")\n",
    "word2vec_features.head(1)"
   ]
  },
  {
   "cell_type": "markdown",
   "metadata": {},
   "source": [
    "## Convert Spark DF to Pandas DF"
   ]
  },
  {
   "cell_type": "code",
   "execution_count": 85,
   "metadata": {},
   "outputs": [
    {
     "data": {
      "text/html": [
       "<div>\n",
       "<table border=\"1\" class=\"dataframe\">\n",
       "  <thead>\n",
       "    <tr style=\"text-align: right;\">\n",
       "      <th></th>\n",
       "      <th>word</th>\n",
       "      <th>vector</th>\n",
       "    </tr>\n",
       "  </thead>\n",
       "  <tbody>\n",
       "    <tr>\n",
       "      <th>0</th>\n",
       "      <td>quotient</td>\n",
       "      <td>[-0.0164144989103, -0.0146850179881, -0.039069...</td>\n",
       "    </tr>\n",
       "    <tr>\n",
       "      <th>1</th>\n",
       "      <td>incident</td>\n",
       "      <td>[-0.081671461463, 0.0413153469563, -0.01991129...</td>\n",
       "    </tr>\n",
       "    <tr>\n",
       "      <th>2</th>\n",
       "      <td>serious</td>\n",
       "      <td>[-0.16352725029, 0.079047486186, -0.0693107396...</td>\n",
       "    </tr>\n",
       "    <tr>\n",
       "      <th>3</th>\n",
       "      <td>wgbh</td>\n",
       "      <td>[-0.0464854203165, 0.0286101084203, -0.0830683...</td>\n",
       "    </tr>\n",
       "  </tbody>\n",
       "</table>\n",
       "</div>"
      ],
      "text/plain": [
       "       word                                             vector\n",
       "0  quotient  [-0.0164144989103, -0.0146850179881, -0.039069...\n",
       "1  incident  [-0.081671461463, 0.0413153469563, -0.01991129...\n",
       "2   serious  [-0.16352725029, 0.079047486186, -0.0693107396...\n",
       "3      wgbh  [-0.0464854203165, 0.0286101084203, -0.0830683..."
      ]
     },
     "execution_count": 85,
     "metadata": {},
     "output_type": "execute_result"
    }
   ],
   "source": [
    "word2vec_features_pdf = word2vec_features.toPandas()\n",
    "word2vec_features_pdf.head(4)"
   ]
  },
  {
   "cell_type": "markdown",
   "metadata": {},
   "source": [
    "## Save features in CSV for subsequent steps"
   ]
  },
  {
   "cell_type": "code",
   "execution_count": 87,
   "metadata": {
    "collapsed": true
   },
   "outputs": [],
   "source": [
    "word2vec_features_pdf.to_csv('../Outputs/Word2Vec-Features.csv')"
   ]
  },
  {
   "cell_type": "markdown",
   "metadata": {},
   "source": [
    "## Getting comment-level vectors from word-level vectors (averaging)"
   ]
  },
  {
   "cell_type": "code",
   "execution_count": 115,
   "metadata": {},
   "outputs": [
    {
     "data": {
      "text/plain": [
       "[Row(rev_id=37675, result=DenseVector([0.0302, 0.1256, -0.0132, -0.0225, 0.032, -0.0435, 0.0599, 0.1015, 0.1214, -0.0662, -0.0778, 0.1033, 0.0209, 0.0176, -0.0662, 0.0338, 0.0508, -0.068, 0.0734, -0.0304, -0.0309, -0.1231, -0.0275, 0.062, 0.0069, 0.056, -0.0824, -0.1513, -0.0476, 0.056, -0.0014, -0.029, -0.0252, -0.1051, 0.1535, -0.0756, -0.0618, -0.1073, -0.0373, -0.0182, -0.0479, 0.1109, 0.0215, 0.0355, -0.0246, -0.0338, -0.0695, 0.0414, -0.0908, -0.0566])),\n",
       " Row(rev_id=44816, result=DenseVector([0.0324, 0.1015, -0.0437, -0.021, 0.0139, -0.0662, 0.0401, 0.1435, 0.1537, -0.0643, -0.0939, 0.0719, -0.0106, 0.0014, -0.1009, 0.013, 0.1032, -0.0698, 0.0952, 0.0003, 0.0314, -0.132, -0.0417, 0.0768, -0.0222, 0.0495, -0.0754, -0.1567, -0.0258, 0.1161, -0.0214, 0.025, 0.0127, -0.1021, 0.1115, -0.066, -0.0902, -0.1024, 0.0042, -0.0361, -0.0994, 0.0256, 0.0491, 0.0538, 0.0126, -0.034, -0.086, 0.0659, -0.131, -0.0832]))]"
      ]
     },
     "execution_count": 115,
     "metadata": {},
     "output_type": "execute_result"
    }
   ],
   "source": [
    "comment_vectors_df = model.transform(text_filtered_df4).select('rev_id','result')\n",
    "comment_vectors_df.head(2)"
   ]
  }
 ],
 "metadata": {
  "anaconda-cloud": {},
  "celltoolbar": "Raw Cell Format",
  "kernelspec": {
   "display_name": "Python 3 Spark - local",
   "language": "python",
   "name": "spark-3-python"
  },
  "language_info": {
   "codemirror_mode": {
    "name": "ipython",
    "version": 3
   },
   "file_extension": ".py",
   "mimetype": "text/x-python",
   "name": "python",
   "nbconvert_exporter": "python",
   "pygments_lexer": "ipython3",
   "version": "3.5.2"
  }
 },
 "nbformat": 4,
 "nbformat_minor": 1
}
