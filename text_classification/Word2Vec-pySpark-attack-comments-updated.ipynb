{
 "cells": [
  {
   "cell_type": "markdown",
   "metadata": {},
   "source": [
    "# Creating word vectors using word2vec: implementation in Spark MLlib"
   ]
  },
  {
   "cell_type": "markdown",
   "metadata": {},
   "source": [
    "## PREPARE DATA: Download data and create input output directories"
   ]
  },
  {
   "cell_type": "markdown",
   "metadata": {},
   "source": [
    "### Here we show how to use Spark MLlib Word2Vec for generating word-features \n",
    "#### The data being used is the attack comments text data\n",
    "\n",
    "This notebook will take take about 1-2 mins to finish on a Python 3 Spark kernel on a DSVM with Spark\n",
    "\n",
    "MLlib Word2Vec: https://spark.apache.org/docs/2.2.0/mllib-feature-extraction.html#word2vec"
   ]
  },
  {
   "cell_type": "markdown",
   "metadata": {},
   "source": [
    "## Set directory path for input data \n",
    "#### Input data is downloaded locally to a DSVM"
   ]
  },
  {
   "cell_type": "code",
   "execution_count": 1,
   "metadata": {
    "collapsed": true
   },
   "outputs": [],
   "source": [
    "# 1. Location of training data on \n",
    "text_file = \"/home/remoteuser/notebooks/Strata2018/text_classification/text_data/attack_data.csv\"\n",
    "import os\n",
    "from pathlib import Path\n",
    "my_file = Path(text_file)\n",
    "\n",
    "download_file = 1\n",
    "if my_file.exists():\n",
    "    download_file = 0\n",
    "\n",
    "if download_file == 1:\n",
    "    !wget https://activelearning.blob.core.windows.net/activelearningdemo/text_data.zip\n",
    "    !unzip text_data.zip"
   ]
  },
  {
   "cell_type": "markdown",
   "metadata": {},
   "source": [
    "## Set spark context and import necessary libraries"
   ]
  },
  {
   "cell_type": "code",
   "execution_count": 2,
   "metadata": {
    "collapsed": true
   },
   "outputs": [],
   "source": [
    "from pyspark import SparkConf\n",
    "from pyspark import SparkContext\n",
    "from pyspark.sql import SQLContext, SparkSession, DataFrame, SparkSession\n",
    "from pyspark.sql.functions import UserDefinedFunction, regexp_replace, trim, col, lower, lit, udf, monotonically_increasing_id\n",
    "from pyspark.sql.types import *\n",
    "from pyspark.ml.feature import Word2Vec, Word2VecModel, Tokenizer, RegexTokenizer, StopWordsRemover\n",
    "from pyspark.ml.linalg import Vectors\n",
    "\n",
    "import numpy as np\n",
    "import datetime\n",
    "import pandas as pd\n",
    "\n",
    "sqlContext = SQLContext(sc)"
   ]
  },
  {
   "cell_type": "markdown",
   "metadata": {},
   "source": [
    "## Data ingestion: Read in attack text data from .csv file"
   ]
  },
  {
   "cell_type": "code",
   "execution_count": 3,
   "metadata": {},
   "outputs": [
    {
     "data": {
      "text/plain": [
       "115864"
      ]
     },
     "execution_count": 3,
     "metadata": {},
     "output_type": "execute_result"
    }
   ],
   "source": [
    "## READ IN DATA AND CREATE SPARK DATAFRAME FROM A CSV & AND MATERIALIZE IN MEMORY\n",
    "text_df = spark.read.csv(path=text_file, header=True, inferSchema=True, sep=\",\")\n",
    "text_df.cache();\n",
    "\n",
    "## REGISTER DATA-FRAME AS A TEMP-TABLE IN SQL-CONTEXT\n",
    "text_df.createOrReplaceTempView(\"text_table\")\n",
    "\n",
    "# COUNT NUMBER OF ROWS IN DATA FRAME\n",
    "text_df.count()"
   ]
  },
  {
   "cell_type": "code",
   "execution_count": 4,
   "metadata": {},
   "outputs": [
    {
     "data": {
      "text/plain": [
       "[Row(rev_id=37675, comment=\"`-NEWLINE_TOKENThis is not ``creative``.  Those are the dictionary definitions of the terms ``insurance`` and ``ensurance`` as properly applied to ``destruction``.  If you don't understand that, fine, legitimate criticism, I'll write up ``three man cell`` and ``bounty hunter`` and then it will be easy to understand why ``ensured`` and ``insured`` are different - and why both differ from ``assured``.NEWLINE_TOKENNEWLINE_TOKENThe sentence you quote is absolutely neutral.  You just aren't familiar with the underlying theory of strike-back (e.g. submarines as employed in nuclear warfare) guiding the insurance, nor likely the three man cell structure that kept the IRA from being broken by the British.  If that's my fault, fine, I can fix that to explain.  But ther'es nothing ``personal`` or ``creative`` about it.NEWLINE_TOKENNEWLINE_TOKENI'm tired of arguing with you.  Re: the other article, ``multi-party`` turns up plenty, and there is more use of ``mutually`` than ``mutual``.  If I were to apply your standard I'd be moving ``Mutual Assured Destruction`` to ``talk`` for not appealing to a Reagan voter's biases about its effectiveness, and for dropping the ``ly``.NEWLINE_TOKENNEWLINE_TOKENThere is a double standard in your edits.  If it comes from some US history book, like ``peace movement`` or 'M.A.D.' as defined in 1950, you like it, even if the definition is totally useless in 2002 and only of historical interest.  NEWLINE_TOKENNEWLINE_TOKENIf it makes any even-obvious connection or implication from the language chosen in multiple profession-specific terms, you consider it somehow non-neutral...  Gandhi thinks ``eye for an eye`` describes riots, death penalty, and war all at once, but you don't.  What do you know that Gandhi doesn't?NEWLINE_TOKENNEWLINE_TOKENGuess what:  reality is not neutral.  Current use of terms is slightly more controversial.  Neutrality requires negotiation, and some willingness to learn.NEWLINE_TOKENNEWLINE_TOKENThis is your problem not mine.  You may dislike the writing, fine, that can be fixed.  But disregarding fundamental axioms of philosphy with names that recur in multiple phrases, or failing to make critical distinctions like 'insurance' versus 'assurance' versus 'ensurance' (which are made in one quote by an Air Force general in an in-context quote), is just a disservice to the reader.NEWLINE_TOKENNEWLINE_TOKENIf someone comes here to research a topic like MAD, they want some context, beyond history.NEWLINE_TOKENNEWLINE_TOKENIf this is a history book, fine, it's a history book.  But that wasn't what it was claimed to be...NEWLINE_TOKEN`\", year='2002', logged_in='False', ns='article', sample='random', split='train', count='10', avg_attack=0.0, is_attack=False)]"
      ]
     },
     "execution_count": 4,
     "metadata": {},
     "output_type": "execute_result"
    }
   ],
   "source": [
    "# SELECT ONE ROW FROM THE SPARK DATAFRAME\n",
    "text_df.head(1)"
   ]
  },
  {
   "cell_type": "code",
   "execution_count": 5,
   "metadata": {},
   "outputs": [
    {
     "name": "stdout",
     "output_type": "stream",
     "text": [
      "+-------+-----+\n",
      "|     ns|split|\n",
      "+-------+-----+\n",
      "|article|  dev|\n",
      "|article| test|\n",
      "|article|train|\n",
      "+-------+-----+\n",
      "\n"
     ]
    }
   ],
   "source": [
    "### SELECT A FEW COLUMNS BASED ON WHICH WE FILTER\n",
    "sqlStatement = \"\"\" SELECT distinct ns, split \n",
    "            FROM text_table \n",
    "            where split in ('train', 'test', 'dev') \n",
    "            order by ns, split \"\"\"\n",
    "spark.sql(sqlStatement).show()"
   ]
  },
  {
   "cell_type": "markdown",
   "metadata": {},
   "source": [
    "## Select and filter data set (only training articles)"
   ]
  },
  {
   "cell_type": "code",
   "execution_count": 6,
   "metadata": {},
   "outputs": [
    {
     "data": {
      "text/plain": [
       "31253"
      ]
     },
     "execution_count": 6,
     "metadata": {},
     "output_type": "execute_result"
    }
   ],
   "source": [
    "### SELCT ONLY REV_ID AND COMMENT FIELDS, AND FILTER FOR TRAINING DATA AND ARTILES ONLY\n",
    "sqlStatement = \"\"\" SELECT rev_id, comment \n",
    "            FROM text_table \n",
    "            where ns = 'article' and split = 'train' \"\"\"\n",
    "text_filtered_df = spark.sql(sqlStatement)\n",
    "\n",
    "## CACHE NEW DATAFRAME IN MEMORY AND CREATE TEMPORARY TABLE\n",
    "text_filtered_df.cache(); \n",
    "text_filtered_df.createOrReplaceTempView(\"text_filtered_table\")\n",
    "\n",
    "## COUNT NUMBER OF ROWS IN DATAFRAME AFTER FILTERING\n",
    "text_filtered_df.count()"
   ]
  },
  {
   "cell_type": "markdown",
   "metadata": {},
   "source": [
    "## Lowercase COMMENT and remove some irrelevant words and punctuations"
   ]
  },
  {
   "cell_type": "code",
   "execution_count": 7,
   "metadata": {},
   "outputs": [
    {
     "data": {
      "text/plain": [
       "[Row(rev_id=37675, comment_final='this is not creative  those are the dictionary definitions of the terms insurance and ensurance as properly applied to destruction  if you dont understand that fine legitimate criticism ill write up three man cell and bounty hunter and then it will be easy to understand why ensured and insured are different - and why both differ from assuredthe sentence you quote is absolutely neutral  you just arent familiar with the underlying theory of strike-back eg submarines as employed in nuclear warfare guiding the insurance nor likely the three man cell structure that kept the ira from being broken by the british  if thats my fault fine i can fix that to explain  but theres nothing personal or creative about itim tired of arguing with you  re the other article multi-party turns up plenty and there is more use of mutually than mutual  if i were to apply your standard id be moving mutual assured destruction to talk for not appealing to a reagan voters biases about its effectiveness and for dropping the lythere is a double standard in your edits  if it comes from some us history book like peace movement or mad as defined in 1950 you like it even if the definition is totally useless in 2002 and only of historical interest  if it makes any even-obvious connection or implication from the language chosen in multiple profession-specific terms you consider it somehow non-neutral  gandhi thinks eye for an eye describes riots death penalty and war all at once but you dont  what do you know that gandhi doesntguess what  reality is not neutral  current use of terms is slightly more controversial  neutrality requires negotiation and some willingness to learnthis is your problem not mine  you may dislike the writing fine that can be fixed  but disregarding fundamental axioms of philosphy with names that recur in multiple phrases or failing to make critical distinctions like insurance versus assurance versus ensurance which are made in one quote by an air force general in an in-context quote is just a disservice to the readerif someone comes here to research a topic like mad they want some context beyond historyif this is a history book fine its a history book  but that wasnt what it was claimed to be')]"
      ]
     },
     "execution_count": 7,
     "metadata": {},
     "output_type": "execute_result"
    }
   ],
   "source": [
    "text_filtered_df2 = text_filtered_df.withColumn(\"comment1\", lower(col(\"comment\"))).\\\n",
    "    withColumn(\"comment2\", regexp_replace(\"comment1\", '-newline_token', \"\")).\\\n",
    "    withColumn(\"comment3\", regexp_replace(\"comment2\", 'newline_token', \"\")).\\\n",
    "    withColumn(\"comment_final\", regexp_replace(\"comment3\", '[^\\w-_ ]', \"\")).\\\n",
    "    select('rev_id', 'comment_final')\n",
    "    \n",
    "\n",
    "# SELECT ONE ROW OF DATAFRAME AFTER \n",
    "text_filtered_df2.head(1)"
   ]
  },
  {
   "cell_type": "markdown",
   "metadata": {},
   "source": [
    "## Tokenize COMMENT and remove stopwords"
   ]
  },
  {
   "cell_type": "code",
   "execution_count": 8,
   "metadata": {},
   "outputs": [
    {
     "name": "stdout",
     "output_type": "stream",
     "text": [
      "+------+--------------------+--------------------+--------------------+\n",
      "|rev_id|       comment_final|               words|           filtWords|\n",
      "+------+--------------------+--------------------+--------------------+\n",
      "| 37675|this is not creat...|[this, is, not, c...|[creative, , dict...|\n",
      "| 44816| the term standar...|[, the, term, sta...|[, term, standard...|\n",
      "| 49851|true or false the...|[true, or, false,...|[true, false, sit...|\n",
      "| 93890|this page will ne...|[this, page, will...|[page, need, disa...|\n",
      "|103624|i removed the fol...|[i, removed, the,...|[removed, followi...|\n",
      "+------+--------------------+--------------------+--------------------+\n",
      "only showing top 5 rows\n",
      "\n"
     ]
    }
   ],
   "source": [
    "## DEFINE TOKENIZER AND STOPWORD REMOVER\n",
    "tokenizer = Tokenizer(inputCol=\"comment_final\", outputCol=\"words\")\n",
    "remover = StopWordsRemover(inputCol=\"words\", outputCol=\"filtWords\")\n",
    "\n",
    "## TRANSFORM DATASET TO TOKENIZE AND REMOVE STOPWORDS\n",
    "text_filtered_df3 = tokenizer.transform(text_filtered_df2)\n",
    "text_filtered_df4 = remover.transform(text_filtered_df3)\n",
    "\n",
    "## MATERIALIZE DATAFRAME IN MEMORY\n",
    "text_filtered_df4.cache(); text_filtered_df4.count();\n",
    "text_filtered_df4.show(5)"
   ]
  },
  {
   "cell_type": "markdown",
   "metadata": {},
   "source": [
    "## DEFINE AND RUN WORD2VEC ON COMMENTS"
   ]
  },
  {
   "cell_type": "markdown",
   "metadata": {},
   "source": [
    "MLlib Word2Vec parameters: https://spark.apache.org/docs/2.2.0/api/scala/index.html#org.apache.spark.mllib.feature.Word2Vec"
   ]
  },
  {
   "cell_type": "code",
   "execution_count": 9,
   "metadata": {
    "collapsed": true
   },
   "outputs": [],
   "source": [
    "model = None\n",
    "window_size = 5\n",
    "vector_size = 50\n",
    "min_count = 5\n",
    "\n",
    "## DEFINE WORD2VEC TRANSFORMER\n",
    "word2Vec = Word2Vec(windowSize = window_size, vectorSize = vector_size, minCount = min_count, inputCol=\"filtWords\", outputCol=\"result\")\n",
    "\n",
    "## FIT TRANSFORMER TO GENERATE FEATURES\n",
    "model = word2Vec.fit(text_filtered_df4)"
   ]
  },
  {
   "cell_type": "markdown",
   "metadata": {},
   "source": [
    "## Examine some words, and other words close to them from these feature neighborhood"
   ]
  },
  {
   "cell_type": "code",
   "execution_count": 10,
   "metadata": {},
   "outputs": [
    {
     "data": {
      "text/plain": [
       "[Row(word='wikipediaassume'), Row(word='bad'), Row(word='assuming')]"
      ]
     },
     "execution_count": 10,
     "metadata": {},
     "output_type": "execute_result"
    }
   ],
   "source": [
    "model.findSynonyms(\"good\", 10).select(\"word\").head(3)"
   ]
  },
  {
   "cell_type": "markdown",
   "metadata": {},
   "source": [
    "## Examine how the vector features look like"
   ]
  },
  {
   "cell_type": "code",
   "execution_count": 11,
   "metadata": {},
   "outputs": [
    {
     "data": {
      "text/plain": [
       "[Row(word='quotient', vector=DenseVector([0.0241, 0.0267, 0.0303, 0.0178, 0.0267, -0.0065, 0.0194, -0.015, -0.0127, 0.0356, -0.0137, -0.0397, -0.0015, -0.0369, 0.0073, 0.0071, 0.0129, -0.0115, -0.0495, 0.0116, 0.0009, 0.0001, -0.0196, 0.0128, 0.001, -0.0275, -0.0035, -0.0336, -0.0086, -0.019, 0.0171, 0.0197, 0.0243, -0.0021, -0.0106, 0.0371, -0.0165, -0.0146, -0.0174, -0.0169, -0.0242, 0.0485, 0.023, 0.0443, -0.0264, -0.023, -0.0117, 0.0207, -0.0054, -0.0321]))]"
      ]
     },
     "execution_count": 11,
     "metadata": {},
     "output_type": "execute_result"
    }
   ],
   "source": [
    "word2vec_features = model.getVectors().select(\"*\")\n",
    "word2vec_features.head(1)"
   ]
  },
  {
   "cell_type": "markdown",
   "metadata": {},
   "source": [
    "## Convert Spark DF to Pandas DF for output into a CSV file"
   ]
  },
  {
   "cell_type": "code",
   "execution_count": 12,
   "metadata": {},
   "outputs": [
    {
     "data": {
      "text/html": [
       "<div>\n",
       "<table border=\"1\" class=\"dataframe\">\n",
       "  <thead>\n",
       "    <tr style=\"text-align: right;\">\n",
       "      <th></th>\n",
       "      <th>word</th>\n",
       "      <th>vector</th>\n",
       "    </tr>\n",
       "  </thead>\n",
       "  <tbody>\n",
       "    <tr>\n",
       "      <th>0</th>\n",
       "      <td>quotient</td>\n",
       "      <td>[0.0241195745766, 0.0266819447279, 0.030338654...</td>\n",
       "    </tr>\n",
       "    <tr>\n",
       "      <th>1</th>\n",
       "      <td>incident</td>\n",
       "      <td>[-0.0359971560538, -0.0717884227633, -0.019297...</td>\n",
       "    </tr>\n",
       "    <tr>\n",
       "      <th>2</th>\n",
       "      <td>serious</td>\n",
       "      <td>[-0.119405440986, 0.139066547155, -0.005218368...</td>\n",
       "    </tr>\n",
       "  </tbody>\n",
       "</table>\n",
       "</div>"
      ],
      "text/plain": [
       "       word                                             vector\n",
       "0  quotient  [0.0241195745766, 0.0266819447279, 0.030338654...\n",
       "1  incident  [-0.0359971560538, -0.0717884227633, -0.019297...\n",
       "2   serious  [-0.119405440986, 0.139066547155, -0.005218368..."
      ]
     },
     "execution_count": 12,
     "metadata": {},
     "output_type": "execute_result"
    }
   ],
   "source": [
    "word2vec_features_pdf = word2vec_features.toPandas()\n",
    "word2vec_features_pdf.head(3)"
   ]
  },
  {
   "cell_type": "markdown",
   "metadata": {},
   "source": [
    "## Get comment-level vectors from word-level vectors (averaging)"
   ]
  },
  {
   "cell_type": "code",
   "execution_count": 13,
   "metadata": {},
   "outputs": [
    {
     "data": {
      "text/plain": [
       "[Row(rev_id=37675, result=DenseVector([-0.0716, 0.0201, -0.0047, -0.0101, 0.0163, 0.0353, -0.0321, 0.0066, 0.0358, -0.0455, 0.0365, 0.0258, 0.0202, -0.0069, -0.0129, -0.0126, 0.0236, -0.0205, 0.0011, -0.0335, -0.0634, -0.0498, -0.0149, 0.0159, 0.032, -0.0405, -0.0664, -0.0454, 0.0159, -0.0056, 0.0004, -0.0303, -0.0111, -0.0887, 0.0152, 0.019, -0.0322, 0.0274, -0.011, 0.0521, 0.0024, -0.0014, 0.0465, 0.0481, -0.0293, 0.0144, 0.0154, -0.0254, -0.0259, -0.0688])),\n",
       " Row(rev_id=44816, result=DenseVector([-0.0683, 0.01, 0.0187, -0.0095, 0.036, 0.0405, -0.0142, -0.0076, 0.0356, -0.0509, 0.0273, 0.048, -0.0024, 0.0093, 0.0008, 0.0045, 0.0187, -0.012, -0.0089, -0.0321, -0.0453, -0.0645, -0.0229, -0.0065, 0.0432, -0.0698, -0.0519, -0.0344, -0.0015, 0.016, -0.004, -0.0377, -0.0139, -0.1092, 0.0075, 0.0397, -0.0181, 0.0025, -0.0269, 0.0353, 0.0087, -0.0119, 0.0386, 0.0674, -0.0193, 0.0199, -0.0117, -0.0308, -0.0277, -0.0986]))]"
      ]
     },
     "execution_count": 13,
     "metadata": {},
     "output_type": "execute_result"
    }
   ],
   "source": [
    "comment_vectors_df = model.transform(text_filtered_df4).select('rev_id','result')\n",
    "comment_vectors_df.head(2)"
   ]
  },
  {
   "cell_type": "markdown",
   "metadata": {},
   "source": [
    "## SAVE FEATURES in CSV file for subsequent steps"
   ]
  },
  {
   "cell_type": "code",
   "execution_count": 14,
   "metadata": {
    "collapsed": true
   },
   "outputs": [],
   "source": [
    "word2vec_features_pdf.to_csv(\"/home/remoteuser/notebooks/Strata2018/text_classification/Word2Vec-Features.csv\")"
   ]
  }
 ],
 "metadata": {
  "anaconda-cloud": {},
  "celltoolbar": "Raw Cell Format",
  "kernelspec": {
   "display_name": "Python 3 Spark - local",
   "language": "python",
   "name": "spark-3-python"
  },
  "language_info": {
   "codemirror_mode": {
    "name": "ipython",
    "version": 3
   },
   "file_extension": ".py",
   "mimetype": "text/x-python",
   "name": "python",
   "nbconvert_exporter": "python",
   "pygments_lexer": "ipython3",
   "version": "3.5.2"
  }
 },
 "nbformat": 4,
 "nbformat_minor": 1
}
